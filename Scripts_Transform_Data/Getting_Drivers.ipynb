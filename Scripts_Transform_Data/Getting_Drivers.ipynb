{
 "cells": [
  {
   "cell_type": "code",
   "execution_count": null,
   "metadata": {},
   "outputs": [],
   "source": [
    "import pandas as pd"
   ]
  },
  {
   "cell_type": "code",
   "execution_count": null,
   "metadata": {},
   "outputs": [],
   "source": [
    "#Setting the file folder and the file path\n",
    "\n",
    "folder_path = \"../Raw_Files/\"\n",
    "path_races_2018_2023_appended = \"races_2018_2023_appended.csv\""
   ]
  },
  {
   "cell_type": "code",
   "execution_count": null,
   "metadata": {},
   "outputs": [],
   "source": [
    "#Reading file and checking the data type\n",
    "\n",
    "df_races_2018_2023_appended = pd.read_csv(folder_path + path_races_2018_2023_appended)"
   ]
  },
  {
   "cell_type": "code",
   "execution_count": null,
   "metadata": {},
   "outputs": [],
   "source": [
    "df_drivers_2018_2023 = df_races_2018_2023_appended.loc[:, ['Driver', 'Driver_Name_Abbreviation', 'Car', 'Year']]"
   ]
  },
  {
   "cell_type": "code",
   "execution_count": null,
   "metadata": {},
   "outputs": [],
   "source": [
    "df_drivers_2018_2023['Driver'] = df_drivers_2018_2023['Driver'].str[:-4]"
   ]
  },
  {
   "cell_type": "code",
   "execution_count": null,
   "metadata": {},
   "outputs": [],
   "source": [
    "df_drivers_2018_2023"
   ]
  },
  {
   "cell_type": "code",
   "execution_count": null,
   "metadata": {},
   "outputs": [],
   "source": [
    "df_drivers_2018_2023[\"Year\"] = df_drivers_2018_2023[\"Year\"].astype(str)"
   ]
  },
  {
   "cell_type": "code",
   "execution_count": null,
   "metadata": {},
   "outputs": [],
   "source": [
    "df_drivers_2018_2023[\"ID\"] = (\n",
    "    df_drivers_2018_2023[\"Driver_Name_Abbreviation\"] + \"_\" +\n",
    "    + df_drivers_2018_2023[\"Car\"]+ \"_\" +\n",
    "    + +df_drivers_2018_2023[\"Year\"]\n",
    ")"
   ]
  },
  {
   "cell_type": "code",
   "execution_count": null,
   "metadata": {},
   "outputs": [],
   "source": [
    "df_drivers_2018_2023"
   ]
  },
  {
   "cell_type": "code",
   "execution_count": null,
   "metadata": {},
   "outputs": [],
   "source": [
    "df_drivers_2018_2023 = df_drivers_2018_2023.drop_duplicates(subset=['ID'])\n",
    "display(df_drivers_2018_2023)"
   ]
  },
  {
   "cell_type": "code",
   "execution_count": null,
   "metadata": {},
   "outputs": [],
   "source": [
    "#output_directory = 'C:/Users/bruno/Projetos Python/F1_Prediction/Clean_Files/'\n",
    "\n",
    "# Export DataFrame to CSV file in the specified directory\n",
    "#df_drivers_2018_2023.to_csv(output_directory + 'drivers-2018_2023.csv', index=False)"
   ]
  }
 ],
 "metadata": {
  "kernelspec": {
   "display_name": "Python 3",
   "language": "python",
   "name": "python3"
  },
  "language_info": {
   "codemirror_mode": {
    "name": "ipython",
    "version": 3
   },
   "file_extension": ".py",
   "mimetype": "text/x-python",
   "name": "python",
   "nbconvert_exporter": "python",
   "pygments_lexer": "ipython3",
   "version": "3.10.6"
  }
 },
 "nbformat": 4,
 "nbformat_minor": 2
}
