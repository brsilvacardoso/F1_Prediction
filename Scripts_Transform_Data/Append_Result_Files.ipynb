{
 "cells": [
  {
   "cell_type": "code",
   "execution_count": null,
   "metadata": {},
   "outputs": [],
   "source": [
    "import pandas as pd\n",
    "import os"
   ]
  },
  {
   "cell_type": "code",
   "execution_count": null,
   "metadata": {},
   "outputs": [],
   "source": [
    "#Setting the file folder\n",
    "\n",
    "folder_path = \"../F1_Results_Web_Scraping\"\n",
    "file_list = os.listdir(folder_path)"
   ]
  },
  {
   "cell_type": "code",
   "execution_count": null,
   "metadata": {},
   "outputs": [],
   "source": [
    "#Filtering by csv format\n",
    "\n",
    "csv_files = [file_name for file_name in file_list if file_name.endswith('.csv')]"
   ]
  },
  {
   "cell_type": "code",
   "execution_count": null,
   "metadata": {},
   "outputs": [],
   "source": [
    "#Looping to print the files names\n",
    "files_list = []\n",
    "\n",
    "for file_path in csv_files:\n",
    "    files_list.append(file_path)\n",
    "    print(file_path)\n",
    "\n",
    "#print(files_list)\n",
    "print(len(files_list))\n"
   ]
  },
  {
   "cell_type": "code",
   "execution_count": null,
   "metadata": {},
   "outputs": [],
   "source": [
    "# Defining folder path\n",
    "folder_path = \"../Raw_Files/\""
   ]
  },
  {
   "cell_type": "code",
   "execution_count": null,
   "metadata": {},
   "outputs": [],
   "source": [
    "#Setting the races final path\n",
    "path_race_result_2018 = \"races_results_2018.csv\"\n",
    "path_race_result_2019 = \"races_results_2019.csv\"\n",
    "path_race_result_2020 = \"races_results_2020.csv\"\n",
    "path_race_result_2021 = \"races_results_2021.csv\"\n",
    "path_race_result_2022 = \"races_results_2022.csv\"\n",
    "path_race_result_2023 = \"races_results_2023.csv\"\n"
   ]
  },
  {
   "cell_type": "code",
   "execution_count": null,
   "metadata": {},
   "outputs": [],
   "source": [
    "df_race_result_2018 = pd.read_csv(folder_path + path_race_result_2018)\n",
    "df_race_result_2019 = pd.read_csv(folder_path + path_race_result_2019)\n",
    "df_race_result_2020 = pd.read_csv(folder_path + path_race_result_2020)\n",
    "df_race_result_2021 = pd.read_csv(folder_path + path_race_result_2021)\n",
    "df_race_result_2022 = pd.read_csv(folder_path + path_race_result_2022)\n",
    "df_race_result_2023 = pd.read_csv(folder_path + path_race_result_2023)"
   ]
  },
  {
   "cell_type": "code",
   "execution_count": null,
   "metadata": {},
   "outputs": [],
   "source": [
    "display (df_race_result_2018)\n",
    "display (df_race_result_2019)\n",
    "display (df_race_result_2020)\n",
    "display (df_race_result_2021)\n",
    "display (df_race_result_2022)\n",
    "display (df_race_result_2023)"
   ]
  },
  {
   "cell_type": "code",
   "execution_count": null,
   "metadata": {},
   "outputs": [],
   "source": [
    "# Appending all the files in one\n",
    "\n",
    "appended_files = pd.concat(\n",
    "    [df_race_result_2018, df_race_result_2019, df_race_result_2020, df_race_result_2021, df_race_result_2022, df_race_result_2023])"
   ]
  },
  {
   "cell_type": "code",
   "execution_count": null,
   "metadata": {},
   "outputs": [],
   "source": [
    "# Transforming date string to date\n",
    "\n",
    "appended_files['Date'] = pd.to_datetime(appended_files['Date'], format='%Y/%m/%d')\n",
    "print(appended_files.dtypes)"
   ]
  },
  {
   "cell_type": "code",
   "execution_count": null,
   "metadata": {},
   "outputs": [],
   "source": [
    "#Creating a column to year\n",
    "appended_files['Year'] = appended_files['Date'].dt.year"
   ]
  },
  {
   "cell_type": "code",
   "execution_count": null,
   "metadata": {},
   "outputs": [],
   "source": [
    "#Creating a colum to driver name abbreviation\n",
    "appended_files['Driver_Name_Abbreviation'] = appended_files['Driver'].str[-3:]"
   ]
  },
  {
   "cell_type": "code",
   "execution_count": null,
   "metadata": {},
   "outputs": [],
   "source": [
    "appended_files['Driver'] = appended_files['Driver'].str[:-3]"
   ]
  },
  {
   "cell_type": "code",
   "execution_count": null,
   "metadata": {},
   "outputs": [],
   "source": [
    "display(appended_files)"
   ]
  },
  {
   "cell_type": "code",
   "execution_count": null,
   "metadata": {},
   "outputs": [],
   "source": [
    "print(appended_files.dtypes)"
   ]
  },
  {
   "cell_type": "code",
   "execution_count": null,
   "metadata": {},
   "outputs": [],
   "source": [
    "#output_directory = 'C:/Users/bruno/Projetos Python/F1_Prediction/Raw_Files/'\n",
    "\n",
    "# Export DataFrame to CSV file in the specified directory\n",
    "#appended_files.to_csv(output_directory + 'races_appended.csv', index=False)"
   ]
  }
 ],
 "metadata": {
  "kernelspec": {
   "display_name": "Python 3",
   "language": "python",
   "name": "python3"
  },
  "language_info": {
   "codemirror_mode": {
    "name": "ipython",
    "version": 3
   },
   "file_extension": ".py",
   "mimetype": "text/x-python",
   "name": "python",
   "nbconvert_exporter": "python",
   "pygments_lexer": "ipython3",
   "version": "3.10.6"
  }
 },
 "nbformat": 4,
 "nbformat_minor": 2
}
